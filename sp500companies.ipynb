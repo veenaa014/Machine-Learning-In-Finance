{
 "cells": [
  {
   "cell_type": "code",
   "execution_count": 10,
   "metadata": {},
   "outputs": [],
   "source": [
    "import bs4 as bs\n",
    "import pickle\n",
    "import requests\n",
    "import datetime as dt\n",
    "import pandas as pd\n",
    "import pandas_datareader.data as web\n",
    "import os\n",
    "import matplotlib.pyplot as plt\n",
    "from matplotlib import "
   ]
  },
  {
   "cell_type": "code",
   "execution_count": 2,
   "metadata": {
    "scrolled": true
   },
   "outputs": [
    {
     "data": {
      "text/plain": [
       "['MMM',\n",
       " 'ABT',\n",
       " 'ABBV',\n",
       " 'ABMD',\n",
       " 'ACN',\n",
       .................
       " 'XRX',\n",
       " 'XLNX',\n",
       " 'XYL',\n",
       " 'YUM',\n",
       " 'ZBRA',\n",
       " 'ZBH',\n",
       " 'ZION',\n",
       " 'ZTS']"
      ]
     },
     "execution_count": 2,
     "metadata": {},
     "output_type": "execute_result"
    }
   ],
   "source": [
    "def save_sp500_tickers():\n",
    "    resp = requests.get('https://en.wikipedia.org/wiki/List_of_S%26P_500_companies').text\n",
    "    soup = bs.BeautifulSoup(resp, 'lxml')\n",
    "#     table= soup.find('table', {'class': 'wikitable sortable'})\n",
    "    table = soup.find('table', {'id': 'constituents'})\n",
    "    tickers = []\n",
    "    for row in table.findAll('tr')[1:]:\n",
    "        ticker = row.find('td').text.replace('\\n','')\n",
    "        mapping = str.maketrans(\".\", \"-\")\n",
    "        ticker = ticker.translate(mapping)\n",
    "        tickers.append(ticker)\n",
    "        \n",
    "    with open('sp500tickers.pickle', 'wb') as f:\n",
    "        pickle.dump(tickers, f)\n",
    "#     print(tickers)\n",
    "    return tickers\n",
    "\n",
    "save_sp500_tickers()"
   ]
  },
  {
   "cell_type": "code",
   "execution_count": 3,
   "metadata": {},
   "outputs": [],
   "source": [
    "def yahoo_data(reload_sp500 = False):\n",
    "    if reload_sp500:\n",
    "        tickers = save_sp500_tickers()\n",
    "    else:\n",
    "        with open('sp500tickers.pickle', 'rb') as f:\n",
    "            tickers = pickle.load(f)\n",
    "    if not os.path.exists('stock_dfs'):\n",
    "        os.makedirs('stock_dfs')\n",
    "    start = dt.datetime(2000, 1, 1)\n",
    "    end = dt.datetime(2020, 2, 11)\n",
    "    \n",
    "    for ticker in tickers:\n",
    "        print(ticker)\n",
    "        if not os.path.exists('stock_dfs/{}.csv'.format(ticker)):\n",
    "            df = web.DataReader(ticker, 'yahoo', start, end)\n",
    "            df.to_csv('stock_dfs/{}.csv'.format(ticker))\n",
    "        else:\n",
    "            print('Already have {}'.format(ticker))"
   ]
  },
  {
   "cell_type": "code",
   "execution_count": 4,
   "metadata": {},
   "outputs": [
    {
     "name": "stdout",
     "output_type": "stream",
     "text": [
      "MMM\n",
      "ABT\n",
      "ABBV\n",
      "ABMD\n",
      ............
      "XRX\n",
      "XLNX\n",
      "XYL\n",
      "YUM\n",
      "ZBRA\n",
      "ZBH\n",
      "ZION\n",
      "ZTS\n"
     ]
    }
   ],
   "source": [
    "yahoo_data()"
   ]
  },
  {
   "cell_type": "code",
   "execution_count": 9,
   "metadata": {},
   "outputs": [
    {
     "name": "stdout",
     "output_type": "stream",
     "text": [
      "0\n",
      "                  MMM\n",
      "Date                 \n",
      "2000-01-03  26.585411\n",
      "2000-01-04  25.529045\n",
      "2000-01-05  26.268497\n",
      "2000-01-06  28.381254\n",
      "2000-01-07  28.944662\n",
      "                  MMM       ABT\n",
      "Date                           \n",
      "2000-01-03  26.585411  6.592210\n",
      "2000-01-04  25.529045  6.403859\n",
      "2000-01-05  26.268497  6.392088\n",
      "2000-01-06  28.381254  6.615753\n",
      "2000-01-07  28.944662  6.686383\n",
      "                  MMM       ABT  ABBV\n",
      "Date                                 \n",
      "2000-01-03  26.585411  6.592210   NaN\n",
      "2000-01-04  25.529045  6.403859   NaN\n",
      "2000-01-05  26.268497  6.392088   NaN\n",
      "2000-01-06  28.381254  6.615753   NaN\n",
      "2000-01-07  28.944662  6.686383   NaN\n",
      "                  MMM       ABT  ABBV      ABMD\n",
      "Date                                           \n",
      "2000-01-03  26.585411  6.592210   NaN  18.25000\n",
      "2000-01-04  25.529045  6.403859   NaN  17.81250\n",
      "2000-01-05  26.268497  6.392088   NaN  18.00000\n",
      "2000-01-06  28.381254  6.615753   NaN  18.03125\n",
      "2000-01-07  28.944662  6.686383   NaN  17.93750\n",
      "                  MMM       ABT  ABBV      ABMD  ACN\n",
      "Date                                                \n",
      "2000-01-03  26.585411  6.592210   NaN  18.25000  NaN\n",
      "2000-01-04  25.529045  6.403859   NaN  17.81250  NaN\n",
      "2000-01-05  26.268497  6.392088   NaN  18.00000  NaN\n",
      "2000-01-06  28.381254  6.615753   NaN  18.03125  NaN\n",
      "2000-01-07  28.944662  6.686383   NaN  17.93750  NaN\n",
      "\n",
      "               AMD  AAP        AES  ...       PGR       PLD  PRU       PEG  \\\n",
      "Date                                ...                                      \n",
      "2000-01-03  15.500  NaN  28.582153  ...  3.410009  8.764339  NaN  5.010053   \n",
      "2000-01-04  14.625  NaN  27.448732  ...  3.286394  8.626103  NaN  5.046822   \n",
      "2000-01-05  15.000  NaN  27.744410  ...  3.364784  8.515511  NaN  5.175525   \n",
      "2000-01-06  16.000  NaN  27.966164  ...  3.352725  8.681398  NaN  5.193910   \n",
      "2000-01-07  16.250  NaN  28.508238  ...  3.410009  8.847284  NaN  5.157138   \n",
      "\n",
      ...............
      ....................
      ...............
      "[5 rows x 504 columns]\n",
      "                  MMM       ABT  ABBV      ABMD  ACN      ATVI       ADBE  \\\n",
      "Date                                                                        \n",
      "2000-01-03  26.585411  6.592210   NaN  18.25000  NaN  1.235628  16.274673   \n",
      "2000-01-04  25.529045  6.403859   NaN  17.81250  NaN  1.198042  14.909401   \n",
      "2000-01-05  26.268497  6.392088   NaN  18.00000  NaN  1.202740  15.204173   \n",
      "2000-01-06  28.381254  6.615753   NaN  18.03125  NaN  1.179249  15.328290   \n",
      "2000-01-07  28.944662  6.686383   NaN  17.93750  NaN  1.212137  16.072983   \n",
      "\n",
      "               AMD  AAP        AES  ...  WYNN       XEL        XRX       XLNX  \\\n",
      "Date                                ...                                         \n",
      "2000-01-03  15.500  NaN  28.582153  ...   NaN  7.832577  52.591202  33.437664   \n",
      "2000-01-04  14.625  NaN  27.448732  ...   NaN  8.012935  50.145103  32.677715   \n",
      "2000-01-05  15.000  NaN  27.744410  ...   NaN  8.322110  52.727116  31.962463   \n",
      "2000-01-06  16.000  NaN  27.966164  ...   NaN  8.244820  51.639961  29.190891   \n",
      "2000-01-07  16.250  NaN  28.508238  ...   NaN  8.244820  52.863003  32.498898   \n",
      "\n",
      "            XYL       YUM       ZBRA  ZBH       ZION  ZTS  \n",
      "Date                                                       \n",
      "2000-01-03  NaN  4.422061  25.027779  NaN  41.507874  NaN  \n",
      "2000-01-04  NaN  4.333175  24.666666  NaN  39.497921  NaN  \n",
      "2000-01-05  NaN  4.355399  25.138889  NaN  39.451168  NaN  \n",
      "2000-01-06  NaN  4.318362  23.777779  NaN  40.012089  NaN  \n",
      "2000-01-07  NaN  4.222067  23.513889  NaN  40.105568  NaN  \n",
      "\n",
      "[5 rows x 505 columns]\n"
     ]
    }
   ],
   "source": [
    "def compile_data():\n",
    "    with open(\"sp500tickers.pickle\", 'rb') as f:\n",
    "        tickers = pickle.load(f)\n",
    "    mains_df = pd.DataFrame()\n",
    "    \n",
    "    for count, ticker in enumerate(tickers):\n",
    "        df = pd.read_csv('stock_dfs/{}.csv'.format(ticker))\n",
    "        df.set_index('Date', inplace = True)\n",
    "        \n",
    "        df.rename(columns = {'Adj Close': ticker}, inplace = True)\n",
    "        df.drop(['Open', 'High', 'Low', 'Close', 'Volume'], 1, inplace = True)\n",
    "        \n",
    "        if mains_df.empty:\n",
    "            mains_df = df\n",
    "        else:\n",
    "            mains_df = mains_df.join(df, how='outer')\n",
    "            \n",
    "        if count %15 == 0:\n",
    "            print(count)\n",
    "        \n",
    "        print(mains_df.head())\n",
    "        mains_df.to_csv('sp500_joined_closes.csv')\n",
    "        \n",
    "compile_data()"
   ]
  },
  {
   "cell_type": "code",
   "execution_count": 12,
   "metadata": {},
   "outputs": [
    {
     "data": {
      "image/png": "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\n",
      "text/plain": [
       "<Figure size 432x288 with 1 Axes>"
      ]
     },
     "metadata": {
      "needs_background": "light"
     },
     "output_type": "display_data"
    }
   ],
   "source": [
    "def visualize_data():\n",
    "    df = pd.read_csv('sp500_joined_closes.csv')\n",
    "#     df['AAPL'].plot()\n",
    "#     plt.show()\n",
    "visualize_data()    "
   ]
  },
  {
   "cell_type": "code",
   "execution_count": null,
   "metadata": {},
   "outputs": [],
   "source": []
  }
 ],
 "metadata": {
  "kernelspec": {
   "display_name": "Python 3",
   "language": "python",
   "name": "python3"
  },
  "language_info": {
   "codemirror_mode": {
    "name": "ipython",
    "version": 3
   },
   "file_extension": ".py",
   "mimetype": "text/x-python",
   "name": "python",
   "nbconvert_exporter": "python",
   "pygments_lexer": "ipython3",
   "version": "3.7.3"
  }
 },
 "nbformat": 4,
 "nbformat_minor": 2
}
